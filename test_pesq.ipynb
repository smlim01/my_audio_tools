{
 "cells": [
  {
   "cell_type": "code",
   "execution_count": 1,
   "metadata": {},
   "outputs": [],
   "source": [
    "import librosa\n",
    "import soundfile as sf\n",
    "from pesq import pesq\n",
    "from pystoi import stoi\n"
   ]
  },
  {
   "cell_type": "code",
   "execution_count": 2,
   "metadata": {},
   "outputs": [],
   "source": [
    "audiofile = \"/home/jovyan/data/LJSpeech-1.1/wavs/LJ001-0001.wav\"\n",
    "target_sr = 16000"
   ]
  },
  {
   "cell_type": "code",
   "execution_count": 4,
   "metadata": {},
   "outputs": [
    {
     "name": "stderr",
     "output_type": "stream",
     "text": [
      "<ipython-input-4-e86d05c39177>:3: FutureWarning: Pass sr=16000 as keyword args. From version 0.10 passing these as positional arguments will result in an error\n",
      "  y_shift = librosa.effects.pitch_shift(y, sr, n_steps=step, res_type=\"soxr_hq\")\n"
     ]
    },
    {
     "name": "stdout",
     "output_type": "stream",
     "text": [
      "step: 0\n",
      "pesq: 4.4746479988098145\n",
      "stoi: 0.999985669720008\n",
      "========================================\n",
      "step: 1\n",
      "pesq: 1.1441714763641357\n",
      "stoi: 0.5439019097472334\n",
      "========================================\n",
      "step: 2\n",
      "pesq: 1.061663269996643\n",
      "stoi: 0.4347428427842196\n",
      "========================================\n",
      "step: 3\n",
      "pesq: 1.045802354812622\n",
      "stoi: 0.33125820677257517\n",
      "========================================\n",
      "step: 4\n",
      "pesq: 1.04108464717865\n",
      "stoi: 0.21011389143991513\n",
      "========================================\n"
     ]
    }
   ],
   "source": [
    "y, sr = librosa.load(audiofile, sr=target_sr, mono=True, res_type=\"soxr_hq\")\n",
    "for step in range(5):\n",
    "    y_shift = librosa.effects.pitch_shift(y, sr, n_steps=step, res_type=\"soxr_hq\")\n",
    "    print(f\"step: {step}\")\n",
    "    print(f\"pesq: {pesq(sr, y, y_shift, mode='wb')}\")\n",
    "    print(f\"stoi: {stoi(y, y_shift, sr, extended=True)}\")\n",
    "    print(\"=\"*40)\n",
    "    sf.write()"
   ]
  },
  {
   "cell_type": "code",
   "execution_count": null,
   "metadata": {},
   "outputs": [],
   "source": []
  }
 ],
 "metadata": {
  "interpreter": {
   "hash": "d4d1e4263499bec80672ea0156c357c1ee493ec2b1c70f0acce89fc37c4a6abe"
  },
  "kernelspec": {
   "display_name": "Python 3.8.10 ('base')",
   "language": "python",
   "name": "python3"
  },
  "language_info": {
   "codemirror_mode": {
    "name": "ipython",
    "version": 3
   },
   "file_extension": ".py",
   "mimetype": "text/x-python",
   "name": "python",
   "nbconvert_exporter": "python",
   "pygments_lexer": "ipython3",
   "version": "3.8.10"
  },
  "orig_nbformat": 4
 },
 "nbformat": 4,
 "nbformat_minor": 2
}
